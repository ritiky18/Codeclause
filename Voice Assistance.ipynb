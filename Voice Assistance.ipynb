{
 "cells": [
  {
   "cell_type": "code",
   "execution_count": 3,
   "id": "d2739b85",
   "metadata": {},
   "outputs": [
    {
     "name": "stdout",
     "output_type": "stream",
     "text": [
      "Collecting wolframalpha\n",
      "  Downloading wolframalpha-5.0.0-py3-none-any.whl (7.5 kB)\n",
      "Collecting jaraco.context\n",
      "  Downloading jaraco.context-4.3.0-py3-none-any.whl (5.3 kB)\n",
      "Collecting more-itertools\n",
      "  Downloading more_itertools-9.1.0-py3-none-any.whl (54 kB)\n",
      "Collecting xmltodict\n",
      "  Downloading xmltodict-0.13.0-py2.py3-none-any.whl (10.0 kB)\n",
      "Installing collected packages: xmltodict, more-itertools, jaraco.context, wolframalpha\n",
      "Successfully installed jaraco.context-4.3.0 more-itertools-9.1.0 wolframalpha-5.0.0 xmltodict-0.13.0\n",
      "Note: you may need to restart the kernel to use updated packages.\n"
     ]
    }
   ],
   "source": [
    "pip install wolframalpha"
   ]
  },
  {
   "cell_type": "code",
   "execution_count": 4,
   "id": "3d72b2fe",
   "metadata": {},
   "outputs": [
    {
     "name": "stdout",
     "output_type": "stream",
     "text": [
      "Collecting pyttsx3\n",
      "  Downloading pyttsx3-2.90-py3-none-any.whl (39 kB)\n",
      "Requirement already satisfied: pywin32 in c:\\users\\ritik\\anaconda3\\lib\\site-packages (from pyttsx3) (302)\n",
      "Collecting pypiwin32\n",
      "  Downloading pypiwin32-223-py3-none-any.whl (1.7 kB)\n",
      "Requirement already satisfied: comtypes in c:\\users\\ritik\\anaconda3\\lib\\site-packages (from pyttsx3) (1.1.10)\n",
      "Installing collected packages: pypiwin32, pyttsx3\n",
      "Successfully installed pypiwin32-223 pyttsx3-2.90\n",
      "Note: you may need to restart the kernel to use updated packages.\n"
     ]
    }
   ],
   "source": [
    "pip install pyttsx3"
   ]
  },
  {
   "cell_type": "code",
   "execution_count": 5,
   "id": "1883e5c2",
   "metadata": {},
   "outputs": [
    {
     "name": "stdout",
     "output_type": "stream",
     "text": [
      "Collecting wikipedia\n",
      "  Downloading wikipedia-1.4.0.tar.gz (27 kB)\n",
      "Requirement already satisfied: beautifulsoup4 in c:\\users\\ritik\\anaconda3\\lib\\site-packages (from wikipedia) (4.11.1)\n",
      "Requirement already satisfied: requests<3.0.0,>=2.0.0 in c:\\users\\ritik\\anaconda3\\lib\\site-packages (from wikipedia) (2.27.1)\n",
      "Requirement already satisfied: certifi>=2017.4.17 in c:\\users\\ritik\\anaconda3\\lib\\site-packages (from requests<3.0.0,>=2.0.0->wikipedia) (2021.10.8)\n",
      "Requirement already satisfied: urllib3<1.27,>=1.21.1 in c:\\users\\ritik\\anaconda3\\lib\\site-packages (from requests<3.0.0,>=2.0.0->wikipedia) (1.26.9)\n",
      "Requirement already satisfied: charset-normalizer~=2.0.0 in c:\\users\\ritik\\anaconda3\\lib\\site-packages (from requests<3.0.0,>=2.0.0->wikipedia) (2.0.4)\n",
      "Requirement already satisfied: idna<4,>=2.5 in c:\\users\\ritik\\anaconda3\\lib\\site-packages (from requests<3.0.0,>=2.0.0->wikipedia) (3.3)\n",
      "Requirement already satisfied: soupsieve>1.2 in c:\\users\\ritik\\anaconda3\\lib\\site-packages (from beautifulsoup4->wikipedia) (2.3.1)\n",
      "Building wheels for collected packages: wikipedia\n",
      "  Building wheel for wikipedia (setup.py): started\n",
      "  Building wheel for wikipedia (setup.py): finished with status 'done'\n",
      "  Created wheel for wikipedia: filename=wikipedia-1.4.0-py3-none-any.whl size=11695 sha256=03138d958cf58a9473cb2b344aff32e384d6a933ca2614627082431fb4d761e2\n",
      "  Stored in directory: c:\\users\\ritik\\appdata\\local\\pip\\cache\\wheels\\c2\\46\\f4\\caa1bee71096d7b0cdca2f2a2af45cacf35c5760bee8f00948\n",
      "Successfully built wikipedia\n",
      "Installing collected packages: wikipedia\n",
      "Successfully installed wikipedia-1.4.0\n",
      "Note: you may need to restart the kernel to use updated packages.\n"
     ]
    }
   ],
   "source": [
    "pip install wikipedia"
   ]
  },
  {
   "cell_type": "code",
   "execution_count": 6,
   "id": "af14bb9a",
   "metadata": {},
   "outputs": [
    {
     "name": "stdout",
     "output_type": "stream",
     "text": [
      "Collecting winshell\n",
      "  Downloading winshell-0.6.zip (10 kB)\n",
      "Building wheels for collected packages: winshell\n",
      "  Building wheel for winshell (setup.py): started\n",
      "  Building wheel for winshell (setup.py): finished with status 'done'\n",
      "  Created wheel for winshell: filename=winshell-0.6-py3-none-any.whl size=9415 sha256=6fe7a2c2aeb0d341b3a62f4e9a8281fb96f33c4a48b9a03473a506654d24586c\n",
      "  Stored in directory: c:\\users\\ritik\\appdata\\local\\pip\\cache\\wheels\\49\\da\\2c\\adad3482807e9093a8ff1d57cedea95c1d8d8c008d8f532c56\n",
      "Successfully built winshell\n",
      "Installing collected packages: winshell\n",
      "Successfully installed winshell-0.6\n",
      "Note: you may need to restart the kernel to use updated packages.\n"
     ]
    }
   ],
   "source": [
    "pip install winshell"
   ]
  },
  {
   "cell_type": "code",
   "execution_count": 9,
   "id": "0c98c155",
   "metadata": {},
   "outputs": [
    {
     "name": "stdout",
     "output_type": "stream",
     "text": [
      "Requirement already satisfied: pyjokes in c:\\users\\ritik\\anaconda3\\lib\\site-packages (0.6.0)\n",
      "Note: you may need to restart the kernel to use updated packages.\n"
     ]
    }
   ],
   "source": [
    "pip install pyjokes"
   ]
  },
  {
   "cell_type": "code",
   "execution_count": 5,
   "id": "c6c99780",
   "metadata": {},
   "outputs": [
    {
     "name": "stdout",
     "output_type": "stream",
     "text": [
      "Collecting secure-smtplib\n",
      "  Downloading secure_smtplib-0.1.1-py2.py3-none-any.whl (3.4 kB)\n",
      "Installing collected packages: secure-smtplib\n",
      "Successfully installed secure-smtplib-0.1.1\n",
      "Note: you may need to restart the kernel to use updated packages.\n"
     ]
    }
   ],
   "source": [
    "pip install secure-smtplib"
   ]
  },
  {
   "cell_type": "code",
   "execution_count": 2,
   "id": "45412ef0",
   "metadata": {},
   "outputs": [
    {
     "name": "stdout",
     "output_type": "stream",
     "text": [
      "Collecting twilio\n",
      "  Downloading twilio-8.0.0-py2.py3-none-any.whl (1.7 MB)\n",
      "Collecting aiohttp-retry>=2.8.3\n",
      "  Downloading aiohttp_retry-2.8.3-py3-none-any.whl (9.8 kB)\n",
      "Requirement already satisfied: requests>=2.0.0 in c:\\users\\ritik\\anaconda3\\lib\\site-packages (from twilio) (2.27.1)\n",
      "Requirement already satisfied: PyJWT<3.0.0,>=2.0.0 in c:\\users\\ritik\\anaconda3\\lib\\site-packages (from twilio) (2.1.0)\n",
      "Requirement already satisfied: pytz in c:\\users\\ritik\\anaconda3\\lib\\site-packages (from twilio) (2021.3)\n",
      "Collecting aiohttp>=3.8.4\n",
      "  Downloading aiohttp-3.8.4-cp39-cp39-win_amd64.whl (323 kB)\n",
      "Collecting asyncio>=3.4.3\n",
      "  Downloading asyncio-3.4.3-py3-none-any.whl (101 kB)\n",
      "Requirement already satisfied: multidict<7.0,>=4.5 in c:\\users\\ritik\\anaconda3\\lib\\site-packages (from aiohttp>=3.8.4->twilio) (5.1.0)\n",
      "Requirement already satisfied: charset-normalizer<4.0,>=2.0 in c:\\users\\ritik\\anaconda3\\lib\\site-packages (from aiohttp>=3.8.4->twilio) (2.0.4)\n",
      "Requirement already satisfied: aiosignal>=1.1.2 in c:\\users\\ritik\\anaconda3\\lib\\site-packages (from aiohttp>=3.8.4->twilio) (1.2.0)\n",
      "Requirement already satisfied: yarl<2.0,>=1.0 in c:\\users\\ritik\\anaconda3\\lib\\site-packages (from aiohttp>=3.8.4->twilio) (1.6.3)\n",
      "Requirement already satisfied: attrs>=17.3.0 in c:\\users\\ritik\\anaconda3\\lib\\site-packages (from aiohttp>=3.8.4->twilio) (21.4.0)\n",
      "Requirement already satisfied: frozenlist>=1.1.1 in c:\\users\\ritik\\anaconda3\\lib\\site-packages (from aiohttp>=3.8.4->twilio) (1.2.0)\n",
      "Requirement already satisfied: async-timeout<5.0,>=4.0.0a3 in c:\\users\\ritik\\anaconda3\\lib\\site-packages (from aiohttp>=3.8.4->twilio) (4.0.1)\n",
      "Requirement already satisfied: typing-extensions>=3.6.5 in c:\\users\\ritik\\anaconda3\\lib\\site-packages (from async-timeout<5.0,>=4.0.0a3->aiohttp>=3.8.4->twilio) (4.1.1)\n",
      "Requirement already satisfied: certifi>=2017.4.17 in c:\\users\\ritik\\anaconda3\\lib\\site-packages (from requests>=2.0.0->twilio) (2021.10.8)\n",
      "Requirement already satisfied: idna<4,>=2.5 in c:\\users\\ritik\\anaconda3\\lib\\site-packages (from requests>=2.0.0->twilio) (3.3)\n",
      "Requirement already satisfied: urllib3<1.27,>=1.21.1 in c:\\users\\ritik\\anaconda3\\lib\\site-packages (from requests>=2.0.0->twilio) (1.26.9)\n",
      "Installing collected packages: aiohttp, asyncio, aiohttp-retry, twilio\n",
      "  Attempting uninstall: aiohttp\n",
      "    Found existing installation: aiohttp 3.8.1\n",
      "    Uninstalling aiohttp-3.8.1:\n",
      "      Successfully uninstalled aiohttp-3.8.1\n",
      "Successfully installed aiohttp-3.8.4 aiohttp-retry-2.8.3 asyncio-3.4.3 twilio-8.0.0\n",
      "Note: you may need to restart the kernel to use updated packages.\n"
     ]
    }
   ],
   "source": [
    "pip install twilio"
   ]
  },
  {
   "cell_type": "code",
   "execution_count": 3,
   "id": "400093ff",
   "metadata": {},
   "outputs": [
    {
     "name": "stdout",
     "output_type": "stream",
     "text": [
      "Requirement already satisfied: beautifulsoup4 in c:\\users\\ritik\\anaconda3\\lib\\site-packages (4.11.1)\n",
      "Requirement already satisfied: soupsieve>1.2 in c:\\users\\ritik\\anaconda3\\lib\\site-packages (from beautifulsoup4) (2.3.1)\n",
      "Note: you may need to restart the kernel to use updated packages.\n"
     ]
    }
   ],
   "source": [
    "pip install beautifulsoup4"
   ]
  },
  {
   "cell_type": "code",
   "execution_count": 4,
   "id": "4412ac37",
   "metadata": {},
   "outputs": [
    {
     "name": "stdout",
     "output_type": "stream",
     "text": [
      "Requirement already satisfied: tk in c:\\users\\ritik\\anaconda3\\lib\\site-packages (0.1.0)\n",
      "Note: you may need to restart the kernel to use updated packages.\n"
     ]
    }
   ],
   "source": [
    "pip install tk"
   ]
  },
  {
   "cell_type": "code",
   "execution_count": 9,
   "id": "9e07fa5c",
   "metadata": {},
   "outputs": [
    {
     "name": "stdout",
     "output_type": "stream",
     "text": [
      "Requirement already satisfied: SpeechRecognition in c:\\users\\ritik\\anaconda3\\lib\\site-packages (3.10.0)\n",
      "Requirement already satisfied: requests>=2.26.0 in c:\\users\\ritik\\anaconda3\\lib\\site-packages (from SpeechRecognition) (2.27.1)\n",
      "Requirement already satisfied: urllib3<1.27,>=1.21.1 in c:\\users\\ritik\\anaconda3\\lib\\site-packages (from requests>=2.26.0->SpeechRecognition) (1.26.9)\n",
      "Requirement already satisfied: certifi>=2017.4.17 in c:\\users\\ritik\\anaconda3\\lib\\site-packages (from requests>=2.26.0->SpeechRecognition) (2021.10.8)\n",
      "Requirement already satisfied: idna<4,>=2.5 in c:\\users\\ritik\\anaconda3\\lib\\site-packages (from requests>=2.26.0->SpeechRecognition) (3.3)\n",
      "Requirement already satisfied: charset-normalizer~=2.0.0 in c:\\users\\ritik\\anaconda3\\lib\\site-packages (from requests>=2.26.0->SpeechRecognition) (2.0.4)\n",
      "Note: you may need to restart the kernel to use updated packages.\n"
     ]
    }
   ],
   "source": [
    "pip install SpeechRecognition"
   ]
  },
  {
   "cell_type": "code",
   "execution_count": 10,
   "id": "30ea1243",
   "metadata": {},
   "outputs": [
    {
     "name": "stdout",
     "output_type": "stream",
     "text": [
      "Collecting feedparser\n",
      "  Downloading feedparser-6.0.10-py3-none-any.whl (81 kB)\n",
      "Collecting sgmllib3k\n",
      "  Downloading sgmllib3k-1.0.0.tar.gz (5.8 kB)\n",
      "Building wheels for collected packages: sgmllib3k\n",
      "  Building wheel for sgmllib3k (setup.py): started\n",
      "  Building wheel for sgmllib3k (setup.py): finished with status 'done'\n",
      "  Created wheel for sgmllib3k: filename=sgmllib3k-1.0.0-py3-none-any.whl size=6066 sha256=b1f88223546a91cb78fbc442fcc29c5911ce1d5fd1f777aca17918ddf2d94947\n",
      "  Stored in directory: c:\\users\\ritik\\appdata\\local\\pip\\cache\\wheels\\65\\7a\\a7\\78c287f64e401255dff4c13fdbc672fed5efbfd21c530114e1\n",
      "Successfully built sgmllib3k\n",
      "Installing collected packages: sgmllib3k, feedparser\n",
      "Successfully installed feedparser-6.0.10 sgmllib3k-1.0.0\n",
      "Note: you may need to restart the kernel to use updated packages.\n"
     ]
    }
   ],
   "source": [
    "pip install feedparser"
   ]
  },
  {
   "cell_type": "code",
   "execution_count": 16,
   "id": "6e194d28",
   "metadata": {},
   "outputs": [
    {
     "name": "stdout",
     "output_type": "stream",
     "text": [
      "Collecting pyaudio\n",
      "  Downloading PyAudio-0.2.13-cp39-cp39-win_amd64.whl (164 kB)\n",
      "Installing collected packages: pyaudio\n",
      "Successfully installed pyaudio-0.2.13\n",
      "Note: you may need to restart the kernel to use updated packages.\n"
     ]
    }
   ],
   "source": [
    "pip install pyaudio"
   ]
  },
  {
   "cell_type": "code",
   "execution_count": null,
   "id": "dffcb052",
   "metadata": {},
   "outputs": [],
   "source": []
  },
  {
   "cell_type": "code",
   "execution_count": 28,
   "id": "7e0841d5",
   "metadata": {},
   "outputs": [],
   "source": [
    "import subprocess\n",
    "import wolframalpha\n",
    "import pyttsx3\n",
    "import random\n",
    "import speech_recognition as sr\n",
    "import wikipedia\n",
    "import webbrowser\n",
    "import os\n",
    "import winshell\n",
    "import pyjokes\n",
    "import json\n",
    "import feedparser\n",
    "import smtplib\n",
    "import datetime \n",
    "import requests\n",
    "import shutil\n",
    "from tkinter import *\n",
    "from twilio.rest import Client\n",
    "from bs4 import BeautifulSoup\n",
    "import win32com.client as wincl\n",
    "from urllib.request import urlopen"
   ]
  },
  {
   "cell_type": "code",
   "execution_count": 12,
   "id": "20755954",
   "metadata": {},
   "outputs": [],
   "source": [
    "voiceEngine = pyttsx3.init('sapi5')\n",
    "voices = voiceEngine.getProperty('voices')\n",
    "voiceEngine.setProperty('voice', voices[1].id)\n",
    "\n",
    "def speak(text):\n",
    "    voiceEngine.say(text)\n",
    "    voiceEngine.runAndWait()"
   ]
  },
  {
   "cell_type": "code",
   "execution_count": 13,
   "id": "bbe62bec",
   "metadata": {},
   "outputs": [],
   "source": [
    "def wish():\n",
    "    print(\"Wishing.\")\n",
    "    time = int(datetime.datetime.now().hour)\n",
    "    global uname,asname\n",
    "    if time>= 0 and time<12:\n",
    "        speak(\"Good Morning sir or madam!\")\n",
    "\n",
    "    elif time<18:\n",
    "        speak(\"Good Afternoon sir or madam!\")\n",
    "\n",
    "    else:\n",
    "        speak(\"Good Evening sir or madam!\")\n",
    "\n",
    "    asname =\"Jasper 1 point o\"\n",
    "    speak(\"I am your Voice Assistant from DataFlair,\")\n",
    "    speak(asname)\n",
    "    print(\"I am your Voice Assistant,\",asname)\n",
    "def getName():\n",
    "    global uname\n",
    "    speak(\"Can I please know your name?\")\n",
    "    uname = takeCommand()\n",
    "    print(\"Name:\",uname)\n",
    "    speak(\"I am glad to know you!\")\n",
    "    columns = shutil.get_terminal_size().columns\n",
    "    speak(\"How can i Help you, \")\n",
    "    speak(uname)\n",
    "\n",
    "def takeCommand():\n",
    "    recog = sr.Recognizer()\n",
    "    \n",
    "    with sr.Microphone() as source:\n",
    "        print(\"Listening to the user\")\n",
    "        recog.pause_threshold = 1\n",
    "        userInput = recog.listen(source)\n",
    "\n",
    "    try:\n",
    "        print(\"Recognizing the command\")\n",
    "        command = recog.recognize_google(userInput, language ='en-in')\n",
    "        print(f\"Command is: {command}\\n\")\n",
    "\n",
    "    except Exception as e:\n",
    "        print(e)\n",
    "        print(\"Unable to Recognize the voice.\")\n",
    "        return \"None\"\n",
    "\n",
    "    return command"
   ]
  },
  {
   "cell_type": "code",
   "execution_count": 14,
   "id": "f54bd588",
   "metadata": {},
   "outputs": [],
   "source": [
    "def sendEmail(to, content):\n",
    "    print(\"Sending mail to \", to)\n",
    "    server = smtplib.SMTP('smtp.gmail.com', 587)\n",
    "    server.ehlo()\n",
    "    server.starttls()\n",
    "    #paste your email id and password in the respective places\n",
    "    server.login('your email id', 'password') \n",
    "    server.sendmail('your email id', to, content)\n",
    "    server.close()\n",
    "\n",
    "def getWeather(city_name):\n",
    "    cityName=place.get() #getting input of name of the place from user\n",
    "    baseUrl = \"http://api.openweathermap.org/data/2.5/weather?\" #base url from where we extract weather report\n",
    "    url = baseUrl + \"appid=\" + 'd850f7f52bf19300a9eb4b0aa6b80f0d' + \"&q=\" + cityName  \n",
    "    response = requests.get(url)\n",
    "    x = response.json()\n",
    "\n",
    "    #If there is no error, getting all the weather conditions\n",
    "    if x[\"cod\"] != \"404\":\n",
    "        y = x[\"main\"]\n",
    "        temp = y[\"temp\"]\n",
    "        temp-=273 \n",
    "        pressure = y[\"pressure\"]\n",
    "        humidity = y[\"humidity\"]\n",
    "        desc = x[\"weather\"]\n",
    "        description = z[0][\"description\"]\n",
    "        info=(\" Temperature= \" +str(temp)+\"°C\"+\"\\n atmospheric pressure (hPa) =\"+str(pressure) +\"\\n humidity = \" +str(humidity)+\"%\" +\"\\n description = \" +str(description))\n",
    "        print(info)\n",
    "        speak(\"Here is the weather report at\")\n",
    "        speak(city_name)\n",
    "        speak(info)\n",
    "    else:\n",
    "        speak(\" City Not Found \")\n",
    "\n",
    "def getNews():\n",
    "    try:\n",
    "        response = requests.get('https://www.bbc.com/news')\n",
    "  \n",
    "        b4soup = BeautifulSoup(response.text, 'html.parser')\n",
    "        headLines = b4soup.find('body').find_all('h3')\n",
    "        unwantedLines = ['BBC World News TV', 'BBC World Service Radio',\n",
    "                    'News daily newsletter', 'Mobile app', 'Get in touch']\n",
    "\n",
    "        for x in list(dict.fromkeys(headLines)):\n",
    "            if x.text.strip() not in unwantedLines:\n",
    "                print(x.text.strip())\n",
    "    except Exception as e:\n",
    "        print(str(e))"
   ]
  },
  {
   "cell_type": "code",
   "execution_count": null,
   "id": "3120174e",
   "metadata": {},
   "outputs": [
    {
     "name": "stdout",
     "output_type": "stream",
     "text": [
      "Wishing.\n",
      "I am your Voice Assistant, Jasper 1 point o\n",
      "Listening to the user\n",
      "Recognizing the command\n",
      "\n",
      "Unable to Recognize the voice.\n",
      "Name: None\n",
      "None\n",
      "Listening to the user\n",
      "Recognizing the command\n",
      "Command is: Bhai video ke sath explain karna hai\n",
      "\n",
      "bhai video ke sath explain karna hai\n",
      "Listening to the user\n",
      "Recognizing the command\n"
     ]
    }
   ],
   "source": [
    "if __name__ == '__main__':\n",
    "\n",
    "    uname=''\n",
    "    asname=''\n",
    "    os.system('cls')\n",
    "    wish()\n",
    "    getName()\n",
    "    print(uname)\n",
    "\n",
    "    while True:\n",
    "\n",
    "        command = takeCommand().lower()\n",
    "        print(command)\n",
    "\n",
    "        if \"jarvis\" in command:\n",
    "            wish()\n",
    "            \n",
    "        elif 'how are you' in command:\n",
    "            speak(\"I am fine, Thank you\")\n",
    "            speak(\"How are you, \")\n",
    "            speak(uname)\n",
    "\n",
    "        elif \"good morning\" in command or \"good afternoon\" in command or \"good evening\" in command:\n",
    "            speak(\"A very\" +command)\n",
    "            speak(\"Thank you for wishing me! Hope you are doing well!\")\n",
    "\n",
    "        elif 'fine' in command or \"good\" in command:\n",
    "            speak(\"It's good to know that your fine\")\n",
    "       \n",
    "        elif \"who are you\" in command:\n",
    "            speak(\"I am your virtual assistant.\")\n",
    "\n",
    "        elif \"change my name to\" in command:\n",
    "            speak(\"What would you like me to call you, Sir or Madam \")\n",
    "            uname = takeCommand()\n",
    "            speak('Hello again,')\n",
    "            speak(uname)\n",
    "        \n",
    "        elif \"change name\" in command:\n",
    "            speak(\"What would you like to call me, Sir or Madam \")\n",
    "            assname = takeCommand()\n",
    "            speak(\"Thank you for naming me!\")\n",
    "\n",
    "        elif \"what's your name\" in command:\n",
    "            speak(\"People call me\")\n",
    "            speak(assname)\n",
    "        \n",
    "        elif 'time' in command:\n",
    "            strTime = datetime.datetime.now()\n",
    "            curTime=str(strTime.hour)+\"hours\"+str(strTime.minute)+\"minutes\"+str(strTime.second)+\"seconds\"\n",
    "            speak(uname)\n",
    "            speak(f\" the time is {curTime}\")\n",
    "            print(curTime)\n",
    "\n",
    "        elif 'wikipedia' in command:\n",
    "            speak('Searching Wikipedia')\n",
    "            command = command.replace(\"wikipedia\", \"\")\n",
    "            results = wikipedia.summary(command, sentences = 3)\n",
    "            speak(\"These are the results from Wikipedia\")\n",
    "            print(results)\n",
    "            speak(results)\n",
    "\n",
    "        elif 'open youtube' in command:\n",
    "            speak(\"Here you go, the Youtube is opening\\n\")\n",
    "            webbrowser.open(\"youtube.com\")\n",
    "\n",
    "        elif 'open google' in command:\n",
    "            speak(\"Opening Google\\n\")\n",
    "            webbrowser.open(\"google.com\")\n",
    "\n",
    "        elif 'play music' in command or \"play song\" in command:\n",
    "            speak(\"Enjoy the music!\")\n",
    "            music_dir = \"C:\\\\Users\\\\Gayathri\\\\Music\"\n",
    "            songs = os.listdir(music_dir)\n",
    "            print(songs)\n",
    "            random = os.startfile(os.path.join(music_dir, songs[1]))\n",
    "\n",
    "        elif 'joke' in command:\n",
    "            speak(pyjokes.get_joke())\n",
    "            \n",
    "        elif 'mail' in command:\n",
    "            try:\n",
    "                speak(\"Whom should I send the mail\")\n",
    "                to = input()\n",
    "                speak(\"What is the body?\")\n",
    "                content = takeCommand()\n",
    "                sendEmail(to, content)\n",
    "                speak(\"Email has been sent successfully !\")\n",
    "            except Exception as e:\n",
    "                print(e)\n",
    "                speak(\"I am sorry, not able to send this email\")\n",
    "\n",
    "        elif 'exit' in command:\n",
    "            speak(\"Thanks for giving me your time\")\n",
    "            exit()\n",
    "\n",
    "        elif \"will you be my gf\" in command or \"will you be my bf\" in command:\n",
    "            speak(\"I'm not sure about that, may be you should give me some time\")\n",
    "\n",
    "        elif \"i love you\" in command:\n",
    "            speak(\"Thank you! But, It's a pleasure to hear it from you.\")\n",
    "\n",
    "        elif \"weather\" in command:\n",
    "            speak(\" Please tell your city name \")\n",
    "            print(\"City name : \")\n",
    "            cityName = takeCommand()\n",
    "            getWeather(cityName)\n",
    "\n",
    "        elif \"what is\" in command or \"who is\" in command:\n",
    "            \n",
    "            client = wolframalpha.Client(\"API_ID\")\n",
    "            res = client.query(command)\n",
    "\n",
    "            try:\n",
    "                print (next(res.results).text)\n",
    "                speak (next(res.results).text)\n",
    "            except StopIteration:\n",
    "                print (\"No results\")\n",
    "\n",
    "        elif 'search' in command:\n",
    "            command = command.replace(\"search\", \"\")\n",
    "            webbrowser.open(command)\n",
    "\n",
    "        elif 'news' in command:\n",
    "            getNews()\n",
    "        \n",
    "        elif \"don't listen\" in command or \"stop listening\" in command:\n",
    "            speak(\"for how much time you want to stop me from listening commands\")\n",
    "            a = int(takeCommand())\n",
    "            time.sleep(a)\n",
    "            print(a)\n",
    "\n",
    "        elif \"camera\" in command or \"take a photo\" in command:\n",
    "            ec.capture(0, \"Jarvis Camera \", \"img.jpg\")\n",
    "        \n",
    "        elif 'shutdown system' in command:\n",
    "                speak(\"Hold On a Sec ! Your system is on its way to shut down\")\n",
    "                subprocess.call('shutdown / p /f')\n",
    "\n",
    "        elif \"restart\" in command:\n",
    "            subprocess.call([\"shutdown\", \"/r\"])\n",
    "\n",
    "        elif \"sleep\" in command:\n",
    "            speak(\"Setting in sleep mode\")\n",
    "            subprocess.call(\"shutdown / h\")\n",
    "\n",
    "        elif \"write a note\" in command:\n",
    "            speak(\"What should i write, sir\")\n",
    "            note = takeCommand()\n",
    "            file = open('jarvis.txt', 'w')\n",
    "            speak(\"Sir, Should i include date and time\")\n",
    "            snfm = takeCommand()\n",
    "            if 'yes' in snfm or 'sure' in snfm:\n",
    "                strTime = datetime.datetime.now().strftime(\"% H:% M:% S\")\n",
    "                file.write(strTime)\n",
    "                file.write(\" :- \")\n",
    "                file.write(note)\n",
    "            else:\n",
    "                file.write(note)\n",
    "        else:\n",
    "            speak(\"Sorry, I am not able to understand you\")"
   ]
  },
  {
   "cell_type": "code",
   "execution_count": null,
   "id": "bc3931d3",
   "metadata": {},
   "outputs": [],
   "source": []
  },
  {
   "cell_type": "code",
   "execution_count": null,
   "id": "ea6782d0",
   "metadata": {},
   "outputs": [],
   "source": []
  }
 ],
 "metadata": {
  "kernelspec": {
   "display_name": "Python 3 (ipykernel)",
   "language": "python",
   "name": "python3"
  },
  "language_info": {
   "codemirror_mode": {
    "name": "ipython",
    "version": 3
   },
   "file_extension": ".py",
   "mimetype": "text/x-python",
   "name": "python",
   "nbconvert_exporter": "python",
   "pygments_lexer": "ipython3",
   "version": "3.9.12"
  }
 },
 "nbformat": 4,
 "nbformat_minor": 5
}
