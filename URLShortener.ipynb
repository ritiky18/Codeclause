{
 "cells": [
  {
   "cell_type": "code",
   "execution_count": 1,
   "id": "45c57b15",
   "metadata": {},
   "outputs": [
    {
     "name": "stdout",
     "output_type": "stream",
     "text": [
      "Requirement already satisfied: requests in c:\\users\\ritik\\anaconda3\\lib\\site-packages (2.27.1)\n",
      "Requirement already satisfied: charset-normalizer~=2.0.0 in c:\\users\\ritik\\anaconda3\\lib\\site-packages (from requests) (2.0.4)\n",
      "Requirement already satisfied: idna<4,>=2.5 in c:\\users\\ritik\\anaconda3\\lib\\site-packages (from requests) (3.3)\n",
      "Note: you may need to restart the kernel to use updated packages.\n",
      "Requirement already satisfied: certifi>=2017.4.17 in c:\\users\\ritik\\anaconda3\\lib\\site-packages (from requests) (2021.10.8)\n",
      "Requirement already satisfied: urllib3<1.27,>=1.21.1 in c:\\users\\ritik\\anaconda3\\lib\\site-packages (from requests) (1.26.9)\n"
     ]
    }
   ],
   "source": [
    "pip install requests\n"
   ]
  },
  {
   "cell_type": "code",
   "execution_count": 2,
   "id": "7b6efb7a",
   "metadata": {},
   "outputs": [],
   "source": [
    "import requests"
   ]
  },
  {
   "cell_type": "code",
   "execution_count": 4,
   "id": "810dd7e8",
   "metadata": {},
   "outputs": [
    {
     "name": "stdout",
     "output_type": "stream",
     "text": [
      "Enter URL:https://towardsdatascience.com/best-apis-for-url-shortening-using-python-2db09d1f86f0\n",
      "Shortened URL: https://cutt.ly/e7KrWyF\n"
     ]
    }
   ],
   "source": [
    "api_key = \"578131ebae0ee38681a1e45aedad0d6547b04\"\n",
    "url = input(\"Enter URL:\")\n",
    "api_url = f\"https://cutt.ly/api/api.php?key={api_key}&short={url}\"\n",
    "data = requests.get(api_url).json()[\"url\"]\n",
    "if data[\"status\"] == 7:\n",
    "    shortened_url = data[\"shortLink\"]\n",
    "    print(\"Shortened URL:\", shortened_url)\n",
    "else:\n",
    "    print(\"[!] Error Shortening URL:\", data)"
   ]
  },
  {
   "cell_type": "code",
   "execution_count": null,
   "id": "f9d8c4fd",
   "metadata": {},
   "outputs": [],
   "source": []
  }
 ],
 "metadata": {
  "kernelspec": {
   "display_name": "Python 3 (ipykernel)",
   "language": "python",
   "name": "python3"
  },
  "language_info": {
   "codemirror_mode": {
    "name": "ipython",
    "version": 3
   },
   "file_extension": ".py",
   "mimetype": "text/x-python",
   "name": "python",
   "nbconvert_exporter": "python",
   "pygments_lexer": "ipython3",
   "version": "3.9.12"
  }
 },
 "nbformat": 4,
 "nbformat_minor": 5
}
